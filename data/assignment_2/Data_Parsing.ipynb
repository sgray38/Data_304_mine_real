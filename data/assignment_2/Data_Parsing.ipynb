{
 "cells": [
  {
   "cell_type": "code",
   "execution_count": 1,
   "id": "67a43a5c-4c63-4eb2-afd4-21d1bd2e744b",
   "metadata": {},
   "outputs": [],
   "source": [
    "import pandas as pd\n",
    "import os\n",
    "from bs4 import BeautifulSoup"
   ]
  },
  {
   "cell_type": "code",
   "execution_count": 3,
   "id": "d1cf59bd-ba13-4d02-91be-ebde51151dad",
   "metadata": {},
   "outputs": [],
   "source": [
    "f =  open(\"paragraph.txt\", \"r\")"
   ]
  },
  {
   "cell_type": "code",
   "execution_count": 5,
   "id": "d9cb9041-aef4-4d3f-8970-c10cff3e5b51",
   "metadata": {},
   "outputs": [],
   "source": [
    "thingo = f.read()"
   ]
  },
  {
   "cell_type": "code",
   "execution_count": 41,
   "id": "8a333092-f9b6-4802-9707-913e120b2350",
   "metadata": {},
   "outputs": [
    {
     "data": {
      "text/plain": [
       "9"
      ]
     },
     "execution_count": 41,
     "metadata": {},
     "output_type": "execute_result"
    }
   ],
   "source": [
    "sentences = thingo.split(\".\")\n",
    "sentences = sentences[0:-1]\n",
    "number_of_sentences = len(sentences)\n",
    "print(number_of_sentences) #9"
   ]
  },
  {
   "cell_type": "code",
   "execution_count": 49,
   "id": "3b7a19e4-752e-4e9e-9a43-da5dca03c2c0",
   "metadata": {},
   "outputs": [
    {
     "name": "stdout",
     "output_type": "stream",
     "text": [
      "88\n",
      "81\n"
     ]
    }
   ],
   "source": [
    "words = thingo.split()\n",
    "word_set = set(words)\n",
    "print(len(words))\n",
    "unique_word_count = (len(word_set))\n",
    "print(unique_word_count) # 81"
   ]
  },
  {
   "cell_type": "code",
   "execution_count": 27,
   "id": "2f4ce8cd-a493-4adc-96f6-90d9c04a3ccb",
   "metadata": {},
   "outputs": [
    {
     "name": "stdout",
     "output_type": "stream",
     "text": [
      "hAppyCAts\n"
     ]
    }
   ],
   "source": [
    "important_words = \"\"\n",
    "for num in [60, 26, 10, 10, 41, 35, 26, 44, 48]:\n",
    "    important_words = important_words + words[num] + \" \"\n",
    "important_words= important_words.split()\n",
    "important_letters = \"\"\n",
    "for word in important_words:\n",
    "    important_letters += word[0]\n",
    "print(important_letters) #hAppyCAts"
   ]
  },
  {
   "cell_type": "code",
   "execution_count": null,
   "id": "c2e36278-0750-4e96-8fbb-5d20a3578085",
   "metadata": {},
   "outputs": [],
   "source": []
  }
 ],
 "metadata": {
  "kernelspec": {
   "display_name": "Python 3 (ipykernel)",
   "language": "python",
   "name": "python3"
  },
  "language_info": {
   "codemirror_mode": {
    "name": "ipython",
    "version": 3
   },
   "file_extension": ".py",
   "mimetype": "text/x-python",
   "name": "python",
   "nbconvert_exporter": "python",
   "pygments_lexer": "ipython3",
   "version": "3.12.4"
  }
 },
 "nbformat": 4,
 "nbformat_minor": 5
}
