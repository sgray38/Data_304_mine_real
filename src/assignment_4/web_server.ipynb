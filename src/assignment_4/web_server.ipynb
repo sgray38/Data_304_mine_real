{
 "cells": [
  {
   "cell_type": "code",
   "execution_count": 18,
   "id": "4c3a6b15-57eb-49e8-bb2d-ea12cdbefdc8",
   "metadata": {},
   "outputs": [],
   "source": [
    "import pandas as pd\n",
    "import numpy as np\n",
    "import matplotlib.pyplot as plt"
   ]
  },
  {
   "cell_type": "code",
   "execution_count": 2,
   "id": "89297291-9770-4dd9-9af0-35d1cad32b59",
   "metadata": {},
   "outputs": [],
   "source": [
    "# Function to parse multiple date formats\n",
    "def parse_dates(date_str):\n",
    "    #list of all format types in the dataframe\n",
    "    formats = [\n",
    "        \"%d-%m-%Y %H:%M\",  # day-month-year\n",
    "        \"%Y-%m-%dT%H:%M:%SZ\",  # year-month-day, timezone\n",
    "        \"%m/%d/%Y %I:%M %p\",  # month-day-year, time\n",
    "    ]\n",
    "    for fmt in formats:\n",
    "        #check for match\n",
    "        try:\n",
    "            return pd.to_datetime(date_str, format=fmt)\n",
    "        except ValueError:\n",
    "            continue\n",
    "    return pd.NaT  # Return NaT if none of the formats match"
   ]
  },
  {
   "cell_type": "code",
   "execution_count": 3,
   "id": "3810c79d-931a-4755-aef3-c7c83cd5c1cc",
   "metadata": {},
   "outputs": [
    {
     "data": {
      "text/html": [
       "<div>\n",
       "<style scoped>\n",
       "    .dataframe tbody tr th:only-of-type {\n",
       "        vertical-align: middle;\n",
       "    }\n",
       "\n",
       "    .dataframe tbody tr th {\n",
       "        vertical-align: top;\n",
       "    }\n",
       "\n",
       "    .dataframe thead th {\n",
       "        text-align: right;\n",
       "    }\n",
       "</style>\n",
       "<table border=\"1\" class=\"dataframe\">\n",
       "  <thead>\n",
       "    <tr style=\"text-align: right;\">\n",
       "      <th></th>\n",
       "      <th>Record_ID</th>\n",
       "      <th>Primary_Timestamp</th>\n",
       "      <th>Secondary_Timestamp</th>\n",
       "      <th>Tertiary_Timestamp</th>\n",
       "      <th>Event_Count</th>\n",
       "    </tr>\n",
       "  </thead>\n",
       "  <tbody>\n",
       "    <tr>\n",
       "      <th>0</th>\n",
       "      <td>1</td>\n",
       "      <td>01-10-2024 00:00</td>\n",
       "      <td>NaN</td>\n",
       "      <td>NaN</td>\n",
       "      <td>1</td>\n",
       "    </tr>\n",
       "    <tr>\n",
       "      <th>1</th>\n",
       "      <td>2</td>\n",
       "      <td>2024-10-02T00:00:00Z</td>\n",
       "      <td>NaN</td>\n",
       "      <td>NaN</td>\n",
       "      <td>12</td>\n",
       "    </tr>\n",
       "    <tr>\n",
       "      <th>2</th>\n",
       "      <td>3</td>\n",
       "      <td>10/03/2024 12:00 AM</td>\n",
       "      <td>1727913600</td>\n",
       "      <td>NaN</td>\n",
       "      <td>12</td>\n",
       "    </tr>\n",
       "    <tr>\n",
       "      <th>3</th>\n",
       "      <td>4</td>\n",
       "      <td>10/04/2024 12:00 AM</td>\n",
       "      <td>1728000000</td>\n",
       "      <td>NaN</td>\n",
       "      <td>12</td>\n",
       "    </tr>\n",
       "    <tr>\n",
       "      <th>4</th>\n",
       "      <td>5</td>\n",
       "      <td>2024-10-05T00:00:00Z</td>\n",
       "      <td>NaN</td>\n",
       "      <td>NaN</td>\n",
       "      <td>13</td>\n",
       "    </tr>\n",
       "  </tbody>\n",
       "</table>\n",
       "</div>"
      ],
      "text/plain": [
       "   Record_ID     Primary_Timestamp Secondary_Timestamp Tertiary_Timestamp  \\\n",
       "0          1      01-10-2024 00:00                 NaN                NaN   \n",
       "1          2  2024-10-02T00:00:00Z                 NaN                NaN   \n",
       "2          3   10/03/2024 12:00 AM          1727913600                NaN   \n",
       "3          4   10/04/2024 12:00 AM          1728000000                NaN   \n",
       "4          5  2024-10-05T00:00:00Z                 NaN                NaN   \n",
       "\n",
       "   Event_Count  \n",
       "0            1  \n",
       "1           12  \n",
       "2           12  \n",
       "3           12  \n",
       "4           13  "
      ]
     },
     "execution_count": 3,
     "metadata": {},
     "output_type": "execute_result"
    }
   ],
   "source": [
    "thingo = pd.read_csv(r'..\\..\\data\\assignment_4\\system_of_record_timestamps.csv')\n",
    "\n",
    "thingo.head()"
   ]
  },
  {
   "cell_type": "code",
   "execution_count": 4,
   "id": "5ab9ccac-2ac2-4f57-9445-121bd440d995",
   "metadata": {},
   "outputs": [
    {
     "data": {
      "text/html": [
       "<div>\n",
       "<style scoped>\n",
       "    .dataframe tbody tr th:only-of-type {\n",
       "        vertical-align: middle;\n",
       "    }\n",
       "\n",
       "    .dataframe tbody tr th {\n",
       "        vertical-align: top;\n",
       "    }\n",
       "\n",
       "    .dataframe thead th {\n",
       "        text-align: right;\n",
       "    }\n",
       "</style>\n",
       "<table border=\"1\" class=\"dataframe\">\n",
       "  <thead>\n",
       "    <tr style=\"text-align: right;\">\n",
       "      <th></th>\n",
       "      <th>Record_ID</th>\n",
       "      <th>Primary_Timestamp</th>\n",
       "      <th>Secondary_Timestamp</th>\n",
       "      <th>Tertiary_Timestamp</th>\n",
       "      <th>Event_Count</th>\n",
       "    </tr>\n",
       "  </thead>\n",
       "  <tbody>\n",
       "    <tr>\n",
       "      <th>35</th>\n",
       "      <td>36</td>\n",
       "      <td>2024-11-05T00:00:00Z</td>\n",
       "      <td>NaN</td>\n",
       "      <td>NaN</td>\n",
       "      <td>400</td>\n",
       "    </tr>\n",
       "  </tbody>\n",
       "</table>\n",
       "</div>"
      ],
      "text/plain": [
       "    Record_ID     Primary_Timestamp Secondary_Timestamp Tertiary_Timestamp  \\\n",
       "35         36  2024-11-05T00:00:00Z                 NaN                NaN   \n",
       "\n",
       "    Event_Count  \n",
       "35          400  "
      ]
     },
     "execution_count": 4,
     "metadata": {},
     "output_type": "execute_result"
    }
   ],
   "source": [
    "thingo.loc[thingo['Event_Count'] == thingo.Event_Count.max()]"
   ]
  },
  {
   "cell_type": "code",
   "execution_count": 5,
   "id": "ada3c3a6-8fa2-4ca0-aef8-033010f1ecba",
   "metadata": {},
   "outputs": [
    {
     "name": "stdout",
     "output_type": "stream",
     "text": [
      "0    2024-10-01\n",
      "1    2024-10-02\n",
      "2    2024-10-03\n",
      "3    2024-10-04\n",
      "4    2024-10-05\n",
      "        ...    \n",
      "88   2024-12-28\n",
      "89   2024-12-29\n",
      "90   2024-12-30\n",
      "91   2024-12-31\n",
      "92   2025-01-01\n",
      "Name: Primary_Timestamp, Length: 93, dtype: datetime64[ns]\n",
      "NA's: 0\n"
     ]
    }
   ],
   "source": [
    "#Create new dataframe to mess with\n",
    "fixed_datetime = thingo.copy()\n",
    "#use the parse_dates function to fix the datetime issues\n",
    "fixed_datetime[\"Primary_Timestamp\"] = fixed_datetime[\"Primary_Timestamp\"].apply(parse_dates)\n",
    "print(fixed_datetime.Primary_Timestamp) #looks good\n",
    "\n",
    "#check for NA's\n",
    "print(f\"NA\\'s: {sum((fixed_datetime.Primary_Timestamp == \"NA\") | (fixed_datetime.Primary_Timestamp == \"NAN\") | (fixed_datetime.Primary_Timestamp == \"NaT\"))}\")"
   ]
  },
  {
   "cell_type": "code",
   "execution_count": 30,
   "id": "ffcb96b7-da6c-4bdc-abd4-ed43d5500bf0",
   "metadata": {},
   "outputs": [
    {
     "data": {
      "image/png": "[encoded data removed]",
      "text/plain": [
       "<Figure size 1200x600 with 1 Axes>"
      ]
     },
     "metadata": {},
     "output_type": "display_data"
    }
   ],
   "source": [
    "# Plot\n",
    "plt.figure(figsize=(12, 6))\n",
    "plt.plot(fixed_datetime['Primary_Timestamp'], fixed_datetime['Event_Count'], label=\"Event Count\", marker='o', linestyle='-')\n",
    "plt.xlabel(\"Time\")\n",
    "plt.ylabel(\"Event Count\")\n",
    "plt.title(\"Event Counts\")\n",
    "plt.legend()\n",
    "plt.xticks(rotation=45)\n",
    "plt.grid()\n",
    "plt.show()\n",
    "\n",
    "#That looks like a ddos attack to me, but let's check z-scores"
   ]
  },
  {
   "cell_type": "code",
   "execution_count": 34,
   "id": "67718528-4735-4ae7-a763-acc99ff31f26",
   "metadata": {},
   "outputs": [
    {
     "data": {
      "text/html": [
       "<div>\n",
       "<style scoped>\n",
       "    .dataframe tbody tr th:only-of-type {\n",
       "        vertical-align: middle;\n",
       "    }\n",
       "\n",
       "    .dataframe tbody tr th {\n",
       "        vertical-align: top;\n",
       "    }\n",
       "\n",
       "    .dataframe thead th {\n",
       "        text-align: right;\n",
       "    }\n",
       "</style>\n",
       "<table border=\"1\" class=\"dataframe\">\n",
       "  <thead>\n",
       "    <tr style=\"text-align: right;\">\n",
       "      <th></th>\n",
       "      <th>Record_ID</th>\n",
       "      <th>Primary_Timestamp</th>\n",
       "      <th>Secondary_Timestamp</th>\n",
       "      <th>Tertiary_Timestamp</th>\n",
       "      <th>Event_Count</th>\n",
       "      <th>Z_Score</th>\n",
       "      <th>zscore</th>\n",
       "    </tr>\n",
       "  </thead>\n",
       "  <tbody>\n",
       "    <tr>\n",
       "      <th>33</th>\n",
       "      <td>34</td>\n",
       "      <td>2024-11-03</td>\n",
       "      <td>3 days ago</td>\n",
       "      <td>Nov 3</td>\n",
       "      <td>190</td>\n",
       "      <td>2.163914</td>\n",
       "      <td>2.163914</td>\n",
       "    </tr>\n",
       "    <tr>\n",
       "      <th>34</th>\n",
       "      <td>35</td>\n",
       "      <td>2024-11-04</td>\n",
       "      <td>1730678400</td>\n",
       "      <td>NaN</td>\n",
       "      <td>364</td>\n",
       "      <td>4.645414</td>\n",
       "      <td>4.645414</td>\n",
       "    </tr>\n",
       "    <tr>\n",
       "      <th>35</th>\n",
       "      <td>36</td>\n",
       "      <td>2024-11-05</td>\n",
       "      <td>NaN</td>\n",
       "      <td>NaN</td>\n",
       "      <td>400</td>\n",
       "      <td>5.158828</td>\n",
       "      <td>5.158828</td>\n",
       "    </tr>\n",
       "    <tr>\n",
       "      <th>36</th>\n",
       "      <td>37</td>\n",
       "      <td>2024-11-06</td>\n",
       "      <td>0 days ago</td>\n",
       "      <td>NaN</td>\n",
       "      <td>364</td>\n",
       "      <td>4.645414</td>\n",
       "      <td>4.645414</td>\n",
       "    </tr>\n",
       "    <tr>\n",
       "      <th>37</th>\n",
       "      <td>38</td>\n",
       "      <td>2024-11-07</td>\n",
       "      <td>1730937600</td>\n",
       "      <td>2024-11</td>\n",
       "      <td>190</td>\n",
       "      <td>2.163914</td>\n",
       "      <td>2.163914</td>\n",
       "    </tr>\n",
       "  </tbody>\n",
       "</table>\n",
       "</div>"
      ],
      "text/plain": [
       "    Record_ID Primary_Timestamp Secondary_Timestamp Tertiary_Timestamp  \\\n",
       "33         34        2024-11-03          3 days ago              Nov 3   \n",
       "34         35        2024-11-04          1730678400                NaN   \n",
       "35         36        2024-11-05                 NaN                NaN   \n",
       "36         37        2024-11-06          0 days ago                NaN   \n",
       "37         38        2024-11-07          1730937600            2024-11   \n",
       "\n",
       "    Event_Count   Z_Score    zscore  \n",
       "33          190  2.163914  2.163914  \n",
       "34          364  4.645414  4.645414  \n",
       "35          400  5.158828  5.158828  \n",
       "36          364  4.645414  4.645414  \n",
       "37          190  2.163914  2.163914  "
      ]
     },
     "execution_count": 34,
     "metadata": {},
     "output_type": "execute_result"
    }
   ],
   "source": [
    "# Equation for Z-Score: z = (x-mu)/sigma\n",
    "fixed_datetime['zscore'] = (fixed_datetime['Event_Count'] - fixed_datetime['Event_Count'].mean()) / (fixed_datetime['Event_Count'].std())\n",
    "\n",
    "#Good cutoff: +- 2\n",
    "#hold those in potential_weirdness\n",
    "potential_weirdness = fixed_datetime[(fixed_datetime['zscore'] > 2) | (fixed_datetime['Z_Score'] < -2)]\n",
    "potential_weirdness\n",
    "#These event_counts are statistically significant, and thus are most likely the result of an attack"
   ]
  },
  {
   "cell_type": "code",
   "execution_count": null,
   "id": "18f47ae6-0527-433b-891c-e7739e2f6aed",
   "metadata": {},
   "outputs": [],
   "source": []
  }
 ],
 "metadata": {
  "kernelspec": {
   "display_name": "Python 3 (ipykernel)",
   "language": "python",
   "name": "python3"
  },
  "language_info": {
   "codemirror_mode": {
    "name": "ipython",
    "version": 3
   },
   "file_extension": ".py",
   "mimetype": "text/x-python",
   "name": "python",
   "nbconvert_exporter": "python",
   "pygments_lexer": "ipython3",
   "version": "3.12.4"
  }
 },
 "nbformat": 4,
 "nbformat_minor": 5
}
